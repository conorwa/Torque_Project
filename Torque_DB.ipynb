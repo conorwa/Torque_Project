{
  "nbformat": 4,
  "nbformat_minor": 0,
  "metadata": {
    "colab": {
      "name": "Torque_DB.ipynb",
      "provenance": [],
      "authorship_tag": "ABX9TyO+RV/3roBiBuleyXoc2Ajt",
      "include_colab_link": true
    },
    "kernelspec": {
      "name": "python3",
      "display_name": "Python 3"
    },
    "language_info": {
      "name": "python"
    }
  },
  "cells": [
    {
      "cell_type": "markdown",
      "metadata": {
        "id": "view-in-github",
        "colab_type": "text"
      },
      "source": [
        "<a href=\"https://colab.research.google.com/github/conorwa/Torque_Project/blob/main/Torque_DB.ipynb\" target=\"_parent\"><img src=\"https://colab.research.google.com/assets/colab-badge.svg\" alt=\"Open In Colab\"/></a>"
      ]
    },
    {
      "cell_type": "code",
      "metadata": {
        "colab": {
          "base_uri": "https://localhost:8080/"
        },
        "id": "x2ONNlaNLxWr",
        "outputId": "ace031d5-e729-4b97-8ad8-200288f23c21"
      },
      "source": [
        "import numpy as np\n",
        "import pandas as pd\n",
        "import sklearn\n",
        "from sklearn.preprocessing import LabelEncoder, OneHotEncoder\n",
        "from sklearn.model_selection import train_test_split\n",
        "from sklearn.linear_model import LinearRegression\n",
        "from sklearn.pipeline import Pipeline\n",
        "from sklearn.ensemble import RandomForestRegressor\n",
        "from sklearn.metrics import accuracy_score\n",
        "import matplotlib.pyplot as plt\n",
        "from numpy import mean\n",
        "from numpy import std\n",
        "import statsmodels.api as sm\n",
        "%matplotlib inline\n",
        "import seaborn as sns\n",
        "plt.style.use('seaborn')"
      ],
      "execution_count": null,
      "outputs": [
        {
          "output_type": "stream",
          "text": [
            "/usr/local/lib/python3.7/dist-packages/statsmodels/tools/_testing.py:19: FutureWarning: pandas.util.testing is deprecated. Use the functions in the public API at pandas.testing instead.\n",
            "  import pandas.util.testing as tm\n"
          ],
          "name": "stderr"
        }
      ]
    },
    {
      "cell_type": "code",
      "metadata": {
        "id": "ze_wXDc5MHsS"
      },
      "source": [
        "dataset = pd.read_csv('Torque_db_12100.csv')"
      ],
      "execution_count": null,
      "outputs": []
    },
    {
      "cell_type": "code",
      "metadata": {
        "id": "PSHhsgaiyKMQ"
      },
      "source": [
        "for x in dataset.index:\n",
        "  if dataset.loc[x, \"Torque\"] > 1:\n",
        "    dataset.drop(x, inplace = True)"
      ],
      "execution_count": null,
      "outputs": []
    },
    {
      "cell_type": "code",
      "metadata": {
        "colab": {
          "base_uri": "https://localhost:8080/"
        },
        "id": "qzQFiDPKMHyN",
        "outputId": "c3ef3ff1-f639-434c-e3a2-414e89ad11ff"
      },
      "source": [
        "# shape and data types of the data\n",
        "print(dataset.shape)\n",
        "print(dataset.dtypes)"
      ],
      "execution_count": null,
      "outputs": [
        {
          "output_type": "stream",
          "text": [
            "(928, 5)\n",
            "CarrierID      int64\n",
            "NestID         int64\n",
            "WinderID       int64\n",
            "SpindleID      int64\n",
            "Torque       float64\n",
            "dtype: object\n"
          ],
          "name": "stdout"
        }
      ]
    },
    {
      "cell_type": "code",
      "metadata": {
        "colab": {
          "base_uri": "https://localhost:8080/"
        },
        "id": "J_yjy-JgMH1B",
        "outputId": "b323096b-87d9-4e14-82e9-d1ead76c5a13"
      },
      "source": [
        "# select numeric columns\n",
        "df_numeric = dataset.select_dtypes(include=[np.number])\n",
        "numeric_cols = df_numeric.columns.values\n",
        "print(numeric_cols)\n",
        "\n",
        "# select non numeric columns\n",
        "df_non_numeric = dataset.select_dtypes(exclude=[np.number])\n",
        "non_numeric_cols = df_non_numeric.columns.values\n",
        "print(non_numeric_cols)"
      ],
      "execution_count": null,
      "outputs": [
        {
          "output_type": "stream",
          "text": [
            "['CarrierID' 'NestID' 'WinderID' 'SpindleID' 'Torque']\n",
            "[]\n"
          ],
          "name": "stdout"
        }
      ]
    },
    {
      "cell_type": "code",
      "metadata": {
        "colab": {
          "base_uri": "https://localhost:8080/"
        },
        "id": "ge77BhREMH4n",
        "outputId": "404d4583-c3d7-4623-a283-ca7cc8b7e762"
      },
      "source": [
        "# Run to see if there is any missing entries in the dataset\n",
        "# Before any outliers have been removed\n",
        "for col in dataset.columns:\n",
        "    pct_missing = np.mean(dataset[col].isnull())\n",
        "    print('{} - {}%'.format(col, round(pct_missing*100)))"
      ],
      "execution_count": null,
      "outputs": [
        {
          "output_type": "stream",
          "text": [
            "CarrierID - 0%\n",
            "NestID - 0%\n",
            "WinderID - 0%\n",
            "SpindleID - 0%\n",
            "Torque - 0%\n"
          ],
          "name": "stdout"
        }
      ]
    },
    {
      "cell_type": "code",
      "metadata": {
        "colab": {
          "base_uri": "https://localhost:8080/",
          "height": 282
        },
        "id": "K7zmIvqYMH7k",
        "outputId": "49099230-e80e-4e0d-a06c-e49bb1251e7e"
      },
      "source": [
        "# Run for a basic Box Plot on the Torque column of the dataset\n",
        "# Before any outliers have been removed\n",
        "dataset.boxplot(column=['Torque'])"
      ],
      "execution_count": null,
      "outputs": [
        {
          "output_type": "execute_result",
          "data": {
            "text/plain": [
              "<matplotlib.axes._subplots.AxesSubplot at 0x7feb2bf3fed0>"
            ]
          },
          "metadata": {
            "tags": []
          },
          "execution_count": 6
        },
        {
          "output_type": "display_data",
          "data": {
            "image/png": "[encoded data removed]",
            "text/plain": [
              "<Figure size 432x288 with 1 Axes>"
            ]
          },
          "metadata": {
            "tags": [],
            "needs_background": "light"
          }
        }
      ]
    },
    {
      "cell_type": "code",
      "metadata": {
        "colab": {
          "base_uri": "https://localhost:8080/",
          "height": 282
        },
        "id": "YUcUVStjMH_G",
        "outputId": "0602a87d-06e3-4cfe-f031-1945a5d9cd58"
      },
      "source": [
        "# Run an Hisotgram on the Torque column of the dataset\n",
        "# Before any outliers have been removed\n",
        "dataset['Torque'].hist(bins=100)"
      ],
      "execution_count": null,
      "outputs": [
        {
          "output_type": "execute_result",
          "data": {
            "text/plain": [
              "<matplotlib.axes._subplots.AxesSubplot at 0x7feb2b5eee50>"
            ]
          },
          "metadata": {
            "tags": []
          },
          "execution_count": 7
        },
        {
          "output_type": "display_data",
          "data": {
            "image/png": "[encoded data removed]",
            "text/plain": [
              "<Figure size 432x288 with 1 Axes>"
            ]
          },
          "metadata": {
            "tags": [],
            "needs_background": "light"
          }
        }
      ]
    },
    {
      "cell_type": "code",
      "metadata": {
        "colab": {
          "base_uri": "https://localhost:8080/",
          "height": 333
        },
        "id": "-yamkug8MIDF",
        "outputId": "7a8c089f-a90a-4e37-ce48-47d024d1ee8b"
      },
      "source": [
        "# Run a distribution Plot on the Torque column of the dataset\n",
        "# Before any outliers have been removed\n",
        "ax = sns.distplot(dataset.Torque, hist=True, hist_kws={\"edgecolor\": 'w', \"linewidth\": 3}, kde_kws={\"linewidth\": 3})"
      ],
      "execution_count": null,
      "outputs": [
        {
          "output_type": "stream",
          "text": [
            "/usr/local/lib/python3.7/dist-packages/seaborn/distributions.py:2557: FutureWarning: `distplot` is a deprecated function and will be removed in a future version. Please adapt your code to use either `displot` (a figure-level function with similar flexibility) or `histplot` (an axes-level function for histograms).\n",
            "  warnings.warn(msg, FutureWarning)\n"
          ],
          "name": "stderr"
        },
        {
          "output_type": "display_data",
          "data": {
            "image/png": "[encoded data removed]",
            "text/plain": [
              "<Figure size 432x288 with 1 Axes>"
            ]
          },
          "metadata": {
            "tags": [],
            "needs_background": "light"
          }
        }
      ]
    },
    {
      "cell_type": "code",
      "metadata": {
        "id": "Sk2OBvz3MIGT"
      },
      "source": [
        "X = dataset.iloc[:, :-1].values\n",
        "y = dataset.iloc[:, -1].values"
      ],
      "execution_count": null,
      "outputs": []
    },
    {
      "cell_type": "code",
      "metadata": {
        "colab": {
          "base_uri": "https://localhost:8080/"
        },
        "id": "Jvd2NEBebVTy",
        "outputId": "d26c5246-769f-437a-872c-a8f928136f8b"
      },
      "source": [
        "print(X.shape)\n",
        "print(dataset.head)"
      ],
      "execution_count": null,
      "outputs": [
        {
          "output_type": "stream",
          "text": [
            "(928, 4)\n",
            "<bound method NDFrame.head of      CarrierID  NestID  WinderID  SpindleID    Torque\n",
            "0           10       1         7       3003  0.571323\n",
            "1           10       2         7       3509  0.562675\n",
            "2           10       3         7       3004  0.518944\n",
            "3           10       4         7       3510  0.534952\n",
            "4           10       5         7       3005  0.536280\n",
            "..         ...     ...       ...        ...       ...\n",
            "923         22       4         6       3510  0.566502\n",
            "924         22       5         6       3005  0.511414\n",
            "925         22       6         6       3501  0.535449\n",
            "926         22       7         6       3006  0.602768\n",
            "927         22       8         6       3502  0.542356\n",
            "\n",
            "[928 rows x 5 columns]>\n"
          ],
          "name": "stdout"
        }
      ]
    },
    {
      "cell_type": "code",
      "metadata": {
        "id": "pCHtR69pMIJ9"
      },
      "source": [
        "ohe = OneHotEncoder()\n",
        "X = ohe.fit_transform(X).toarray()"
      ],
      "execution_count": null,
      "outputs": []
    },
    {
      "cell_type": "code",
      "metadata": {
        "colab": {
          "base_uri": "https://localhost:8080/"
        },
        "id": "dNOQ8bWJbA4l",
        "outputId": "c98b25b8-fb05-43e0-bac7-9feb8c9b4641"
      },
      "source": [
        "print(X)\n",
        "print(X.shape)\n",
        "print(dataset.head)"
      ],
      "execution_count": null,
      "outputs": [
        {
          "output_type": "stream",
          "text": [
            "[[0. 0. 0. ... 0. 0. 0.]\n",
            " [0. 0. 0. ... 0. 1. 0.]\n",
            " [0. 0. 0. ... 0. 0. 0.]\n",
            " ...\n",
            " [0. 0. 0. ... 0. 0. 0.]\n",
            " [0. 0. 0. ... 0. 0. 0.]\n",
            " [0. 0. 0. ... 0. 0. 0.]]\n",
            "(928, 64)\n",
            "<bound method NDFrame.head of      CarrierID  NestID  WinderID  SpindleID    Torque\n",
            "0           10       1         7       3003  0.571323\n",
            "1           10       2         7       3509  0.562675\n",
            "2           10       3         7       3004  0.518944\n",
            "3           10       4         7       3510  0.534952\n",
            "4           10       5         7       3005  0.536280\n",
            "..         ...     ...       ...        ...       ...\n",
            "923         22       4         6       3510  0.566502\n",
            "924         22       5         6       3005  0.511414\n",
            "925         22       6         6       3501  0.535449\n",
            "926         22       7         6       3006  0.602768\n",
            "927         22       8         6       3502  0.542356\n",
            "\n",
            "[928 rows x 5 columns]>\n"
          ],
          "name": "stdout"
        }
      ]
    },
    {
      "cell_type": "code",
      "metadata": {
        "id": "WEOsQDCmbUlh"
      },
      "source": [
        ""
      ],
      "execution_count": null,
      "outputs": []
    },
    {
      "cell_type": "code",
      "metadata": {
        "id": "aNwrqbOiMIMf"
      },
      "source": [
        "X_train, X_test, y_train, y_test = train_test_split(\n",
        "    X, y, test_size = 0.25, random_state=42\n",
        ")"
      ],
      "execution_count": null,
      "outputs": []
    },
    {
      "cell_type": "code",
      "metadata": {
        "id": "SeUe_CdCMIOL"
      },
      "source": [
        "lr = LinearRegression().fit(X_test, y_test)\n",
        "lr1 = LinearRegression().fit(X_train, y_train)"
      ],
      "execution_count": null,
      "outputs": []
    },
    {
      "cell_type": "code",
      "metadata": {
        "colab": {
          "base_uri": "https://localhost:8080/"
        },
        "id": "pVKZjfi_MIQw",
        "outputId": "1a7846db-6523-4aab-b3ff-8b049083b589"
      },
      "source": [
        "r_sq = lr.score (X_test, y_test)\n",
        "print('r_sq', r_sq)\n",
        "r_sq1 = lr1.score (X_train, y_train)\n",
        "print('r_sq', r_sq1)"
      ],
      "execution_count": null,
      "outputs": [
        {
          "output_type": "stream",
          "text": [
            "r_sq 0.19193978025710878\n",
            "r_sq 0.10198968356755067\n"
          ],
          "name": "stdout"
        }
      ]
    },
    {
      "cell_type": "code",
      "metadata": {
        "id": "xSSSq-S5ySVy"
      },
      "source": [
        "y_pred = lr.predict(X_test)"
      ],
      "execution_count": null,
      "outputs": []
    },
    {
      "cell_type": "code",
      "metadata": {
        "id": "x-MggE9AMISi",
        "colab": {
          "base_uri": "https://localhost:8080/"
        },
        "outputId": "61852bc0-e83b-4a15-81a5-507725692656"
      },
      "source": [
        "print('Coefficients: \\n', lr.coef_)\n"
      ],
      "execution_count": null,
      "outputs": [
        {
          "output_type": "stream",
          "text": [
            "Coefficients: \n",
            " [-8.44468798e-03 -6.25140288e-03  3.22239546e-02 -7.34610215e-03\n",
            "  1.51920757e-02  1.44869589e-02 -1.74047318e-02  2.90386387e-02\n",
            " -3.76521782e-03  9.82379904e-03 -8.55814107e-03 -6.96717719e-03\n",
            " -4.74777345e-02 -1.97484074e-02  1.16545399e-03 -4.19067340e-02\n",
            "  9.30692710e-04 -4.62838096e-03 -3.83794152e-02  6.84660507e-03\n",
            " -6.53328454e-03  3.81290843e-02 -2.82548896e-02 -2.25147388e-02\n",
            " -1.06976317e-02 -2.09527634e-02  6.84520966e-03 -3.89310654e-02\n",
            " -4.29967294e-02 -3.37027454e-02 -2.06211473e+12  6.50813376e+12\n",
            " -5.77582159e+12  9.32585753e+12 -2.06211473e+12  6.50813376e+12\n",
            " -5.77582159e+12  9.32585753e+12  5.06426898e+12  5.06426898e+12\n",
            "  5.06426898e+12  5.06426898e+12  5.06426898e+12  5.06426898e+12\n",
            "  4.23932414e+12  7.95303100e+12  4.23932414e+12  7.95303100e+12\n",
            "  4.23932414e+12  7.95303100e+12  4.23932414e+12  7.95303100e+12\n",
            "  4.23932414e+12  7.95303100e+12 -4.33092435e+12 -7.14864812e+12\n",
            " -4.33092435e+12 -7.14864812e+12 -4.33092435e+12 -7.14864812e+12\n",
            " -4.33092435e+12 -7.14864812e+12 -4.33092435e+12 -7.14864812e+12]\n"
          ],
          "name": "stdout"
        }
      ]
    },
    {
      "cell_type": "code",
      "metadata": {
        "id": "n-4c-ZbQMIUl"
      },
      "source": [
        "for x in dataset.index:\n",
        "  if dataset.loc[x, \"Torque\"] > 1:\n",
        "    dataset.drop(x, inplace = True)"
      ],
      "execution_count": null,
      "outputs": []
    },
    {
      "cell_type": "code",
      "metadata": {
        "colab": {
          "base_uri": "https://localhost:8080/",
          "height": 282
        },
        "id": "9NyLNR7aMIXW",
        "outputId": "9831e108-9271-4ce0-b435-b1b15e3b9bc8"
      },
      "source": [
        "# Run for a basic Box Plot on the Torque column of the dataset\n",
        "# After outliers have been removed\n",
        "dataset.boxplot(column=['Torque'])"
      ],
      "execution_count": null,
      "outputs": [
        {
          "output_type": "execute_result",
          "data": {
            "text/plain": [
              "<matplotlib.axes._subplots.AxesSubplot at 0x7feb2afb4ad0>"
            ]
          },
          "metadata": {
            "tags": []
          },
          "execution_count": 18
        },
        {
          "output_type": "display_data",
          "data": {
            "image/png": "[encoded data removed]",
            "text/plain": [
              "<Figure size 432x288 with 1 Axes>"
            ]
          },
          "metadata": {
            "tags": [],
            "needs_background": "light"
          }
        }
      ]
    },
    {
      "cell_type": "code",
      "metadata": {
        "colab": {
          "base_uri": "https://localhost:8080/",
          "height": 282
        },
        "id": "D1MvalQcMIZP",
        "outputId": "3b827d43-0618-4ced-c441-9d2cdda727bc"
      },
      "source": [
        "# Run an Hisotgram on the Torque column of the dataset\n",
        "# After outliers have been removed\n",
        "dataset['Torque'].hist(bins=100)"
      ],
      "execution_count": null,
      "outputs": [
        {
          "output_type": "execute_result",
          "data": {
            "text/plain": [
              "<matplotlib.axes._subplots.AxesSubplot at 0x7feb1f3bbad0>"
            ]
          },
          "metadata": {
            "tags": []
          },
          "execution_count": 19
        },
        {
          "output_type": "display_data",
          "data": {
            "image/png": "[encoded data removed]",
            "text/plain": [
              "<Figure size 432x288 with 1 Axes>"
            ]
          },
          "metadata": {
            "tags": [],
            "needs_background": "light"
          }
        }
      ]
    },
    {
      "cell_type": "code",
      "metadata": {
        "colab": {
          "base_uri": "https://localhost:8080/",
          "height": 333
        },
        "id": "gfI3lU47MIb4",
        "outputId": "15976cb5-1fcf-4fd0-9812-997ef3cf6423"
      },
      "source": [
        "# Run a distribution Plot on the Torque column of the dataset\n",
        "# After outliers have been removed\n",
        "ax = sns.distplot(dataset.Torque, hist=True, hist_kws={\"edgecolor\": 'w', \"linewidth\": 3}, kde_kws={\"linewidth\": 3})"
      ],
      "execution_count": null,
      "outputs": [
        {
          "output_type": "stream",
          "text": [
            "/usr/local/lib/python3.7/dist-packages/seaborn/distributions.py:2557: FutureWarning: `distplot` is a deprecated function and will be removed in a future version. Please adapt your code to use either `displot` (a figure-level function with similar flexibility) or `histplot` (an axes-level function for histograms).\n",
            "  warnings.warn(msg, FutureWarning)\n"
          ],
          "name": "stderr"
        },
        {
          "output_type": "display_data",
          "data": {
            "image/png": "[encoded data removed]",
            "text/plain": [
              "<Figure size 432x288 with 1 Axes>"
            ]
          },
          "metadata": {
            "tags": [],
            "needs_background": "light"
          }
        }
      ]
    },
    {
      "cell_type": "code",
      "metadata": {
        "id": "U7nsLKQXMIdv"
      },
      "source": [
        "X = dataset.iloc[:, :-1].values\n",
        "y = dataset.iloc[:, -1].values"
      ],
      "execution_count": null,
      "outputs": []
    },
    {
      "cell_type": "code",
      "metadata": {
        "id": "euP-q5ddMIgj"
      },
      "source": [
        "ohe = OneHotEncoder()\n",
        "X = ohe.fit_transform(X).toarray()"
      ],
      "execution_count": null,
      "outputs": []
    },
    {
      "cell_type": "code",
      "metadata": {
        "id": "tpZNqySuMIjq"
      },
      "source": [
        "X_train, X_test, y_train, y_test = train_test_split(\n",
        "    X, y, test_size = 0.25, random_state=42\n",
        ")"
      ],
      "execution_count": null,
      "outputs": []
    },
    {
      "cell_type": "code",
      "metadata": {
        "id": "sGGcwzlhMImh"
      },
      "source": [
        "lr = LinearRegression().fit(X_test, y_test)"
      ],
      "execution_count": null,
      "outputs": []
    },
    {
      "cell_type": "code",
      "metadata": {
        "colab": {
          "base_uri": "https://localhost:8080/"
        },
        "id": "qQicb-HnMIpP",
        "outputId": "062965d8-9687-4619-a7fb-66544b41e54f"
      },
      "source": [
        "r_sq = lr.score (X_test, y_test)\n",
        "print('r_sq', r_sq)"
      ],
      "execution_count": null,
      "outputs": [
        {
          "output_type": "stream",
          "text": [
            "r_sq 0.19193978025710878\n"
          ],
          "name": "stdout"
        }
      ]
    },
    {
      "cell_type": "code",
      "metadata": {
        "colab": {
          "base_uri": "https://localhost:8080/"
        },
        "id": "wbWa0-m0MIrw",
        "outputId": "fecea839-c597-4ebb-be8f-e2a1b11df96f"
      },
      "source": [
        "rf = RandomForestRegressor (n_estimators=100, random_state=0)\n",
        "rf.fit(X_test, y_test)"
      ],
      "execution_count": null,
      "outputs": [
        {
          "output_type": "execute_result",
          "data": {
            "text/plain": [
              "RandomForestRegressor(bootstrap=True, ccp_alpha=0.0, criterion='mse',\n",
              "                      max_depth=None, max_features='auto', max_leaf_nodes=None,\n",
              "                      max_samples=None, min_impurity_decrease=0.0,\n",
              "                      min_impurity_split=None, min_samples_leaf=1,\n",
              "                      min_samples_split=2, min_weight_fraction_leaf=0.0,\n",
              "                      n_estimators=100, n_jobs=None, oob_score=False,\n",
              "                      random_state=0, verbose=0, warm_start=False)"
            ]
          },
          "metadata": {
            "tags": []
          },
          "execution_count": 21
        }
      ]
    },
    {
      "cell_type": "code",
      "metadata": {
        "id": "9dpDdb_CMIuw",
        "colab": {
          "base_uri": "https://localhost:8080/"
        },
        "outputId": "6201dc65-13c2-4c0e-9bd1-95b8b661e836"
      },
      "source": [
        "# Use the forest's predict method on the test data\n",
        "predictions = rf.predict(X_test)\n",
        "# Calculate the absolute errors\n",
        "errors = abs(predictions - y_test)\n",
        "# Print out the mean absolute error (mae)\n",
        "print('Mean Absolute Error:', round(np.mean(errors), 2))"
      ],
      "execution_count": null,
      "outputs": [
        {
          "output_type": "stream",
          "text": [
            "Mean Absolute Error: 0.01\n"
          ],
          "name": "stdout"
        }
      ]
    },
    {
      "cell_type": "code",
      "metadata": {
        "colab": {
          "base_uri": "https://localhost:8080/"
        },
        "id": "equSomI08_Sg",
        "outputId": "5198a5ec-ac08-4374-9380-aba1b635a3e1"
      },
      "source": [
        "# Calculate mean absolute percentage error (MAPE)\n",
        "mape = 100 * (errors / y_test)\n",
        "# Calculate and display accuracy\n",
        "accuracy = 100 - np.mean(mape)\n",
        "print('Accuracy:', round(accuracy, 2), '%.')"
      ],
      "execution_count": null,
      "outputs": [
        {
          "output_type": "stream",
          "text": [
            "Accuracy: 97.68 %.\n"
          ],
          "name": "stdout"
        }
      ]
    },
    {
      "cell_type": "code",
      "metadata": {
        "id": "h7vMQNmpMIxM",
        "colab": {
          "base_uri": "https://localhost:8080/",
          "height": 269
        },
        "outputId": "4410ae27-35ba-420e-ceba-90b54cae2c7a"
      },
      "source": [
        "plt.figure()\n",
        "sns.heatmap(dataset.corr(), cmap='coolwarm')\n",
        "plt.show()\n"
      ],
      "execution_count": null,
      "outputs": [
        {
          "output_type": "display_data",
          "data": {
            "image/png": "[encoded data removed]",
            "text/plain": [
              "<Figure size 432x288 with 2 Axes>"
            ]
          },
          "metadata": {
            "tags": [],
            "needs_background": "light"
          }
        }
      ]
    },
    {
      "cell_type": "code",
      "metadata": {
        "id": "eOGgovTuMI0d"
      },
      "source": [
        ""
      ],
      "execution_count": null,
      "outputs": []
    },
    {
      "cell_type": "code",
      "metadata": {
        "id": "DTjLSAIlMI3E"
      },
      "source": [
        ""
      ],
      "execution_count": null,
      "outputs": []
    },
    {
      "cell_type": "code",
      "metadata": {
        "id": "wnNXC2F9MI5o"
      },
      "source": [
        ""
      ],
      "execution_count": null,
      "outputs": []
    },
    {
      "cell_type": "code",
      "metadata": {
        "id": "BegpnrcaMI8h"
      },
      "source": [
        ""
      ],
      "execution_count": null,
      "outputs": []
    },
    {
      "cell_type": "code",
      "metadata": {
        "id": "VjNw6g86MI_P"
      },
      "source": [
        ""
      ],
      "execution_count": null,
      "outputs": []
    },
    {
      "cell_type": "code",
      "metadata": {
        "id": "4ZkPtNIHMJCA"
      },
      "source": [
        ""
      ],
      "execution_count": null,
      "outputs": []
    },
    {
      "cell_type": "code",
      "metadata": {
        "id": "c8VNuaYnMJE3"
      },
      "source": [
        ""
      ],
      "execution_count": null,
      "outputs": []
    }
  ]
}